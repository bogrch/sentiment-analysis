{
 "cells": [
  {
   "cell_type": "code",
   "execution_count": null,
   "id": "62a902d2",
   "metadata": {},
   "outputs": [],
   "source": [
    "\n",
    "import nltk\n",
    "from nltk.corpus import movie_reviews\n",
    "from nltk.classify import NaiveBayesClassifier\n",
    "from nltk.classify.util import accuracy as nltk_accuracy\n",
    "from nltk.corpus import stopwords\n",
    "from nltk.tokenize import word_tokenize\n"
   ]
  },
  {
   "cell_type": "code",
   "execution_count": null,
   "id": "4256788b",
   "metadata": {},
   "outputs": [],
   "source": [
    "\n",
    "# Download necessary NLTK datasets\n",
    "nltk.download('movie_reviews')\n",
    "nltk.download('punkt')\n",
    "nltk.download('stopwords')\n"
   ]
  },
  {
   "cell_type": "code",
   "execution_count": null,
   "id": "225106cd",
   "metadata": {},
   "outputs": [],
   "source": [
    "\n",
    "# Function to extract features\n",
    "def extract_features(words):\n",
    "    return dict([(word, True) for word in words])\n",
    "\n",
    "# Load movie reviews from NLTK\n",
    "fileids_pos = movie_reviews.fileids('pos')\n",
    "fileids_neg = movie_reviews.fileids('neg')\n",
    "\n",
    "# Extract features and prepare dataset\n",
    "features_pos = [(extract_features(movie_reviews.words(fileids=[f])), 'Positive') for f in fileids_pos]\n",
    "features_neg = [(extract_features(movie_reviews.words(fileids=[f])), 'Negative') for f in fileids_neg]\n",
    "threshold = 0.8\n",
    "num_pos = int(threshold * len(features_pos))\n",
    "num_neg = int(threshold * len(features_neg))\n",
    "\n",
    "# Split data into training and testing datasets\n",
    "features_train = features_pos[:num_pos] + features_neg[:num_neg]\n",
    "features_test = features_pos[num_pos:] + features_neg[num_neg:]\n"
   ]
  },
  {
   "cell_type": "code",
   "execution_count": null,
   "id": "2d5133a4",
   "metadata": {},
   "outputs": [],
   "source": [
    "\n",
    "# Train a Naive Bayes classifier\n",
    "classifier = NaiveBayesClassifier.train(features_train)\n",
    "print(f'Training completed with an accuracy of {nltk_accuracy(classifier, features_test):.2f}')\n"
   ]
  },
  {
   "cell_type": "code",
   "execution_count": null,
   "id": "29a92bf1",
   "metadata": {},
   "outputs": [],
   "source": [
    "\n",
    "# Test the classifier with some example sentences\n",
    "input_reviews = [\n",
    "    \"The movie was amazing and I loved it!\",\n",
    "    \"The movie was dull and I hated it.\",\n",
    "    \"The plot was good, but the characters are unconvincing.\",\n",
    "    \"The cinematography is pretty great but the storyline is boring.\"\n",
    "]\n",
    "\n",
    "stop_words = set(stopwords.words('english'))\n",
    "\n",
    "for review in input_reviews:\n",
    "    words = word_tokenize(review)\n",
    "    words = [word.lower() for word in words if word.isalpha()]\n",
    "    words = [word for word in words if word not in stop_words]\n",
    "    features = extract_features(words)\n",
    "    print(f\"Review: {review}\\nSentiment: {classifier.classify(features)}\\n\")\n"
   ]
  }
 ],
 "metadata": {},
 "nbformat": 4,
 "nbformat_minor": 5
}
